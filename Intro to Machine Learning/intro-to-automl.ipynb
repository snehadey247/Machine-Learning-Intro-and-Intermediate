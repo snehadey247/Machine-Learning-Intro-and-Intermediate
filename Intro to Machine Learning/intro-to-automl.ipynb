{
 "cells": [
  {
   "cell_type": "code",
   "execution_count": 1,
   "metadata": {
    "_kg_hide-input": true,
    "execution": {
     "iopub.execute_input": "2020-10-01T00:10:14.843530Z",
     "iopub.status.busy": "2020-10-01T00:10:14.842697Z",
     "iopub.status.idle": "2020-10-01T00:10:48.818474Z",
     "shell.execute_reply": "2020-10-01T00:10:48.817589Z"
    },
    "papermill": {
     "duration": 33.994023,
     "end_time": "2020-10-01T00:10:48.818643",
     "exception": false,
     "start_time": "2020-10-01T00:10:14.824620",
     "status": "completed"
    },
    "tags": []
   },
   "outputs": [],
   "source": [
    "\n",
    "# Save CSV file with first 2 million rows only\n",
    "import pandas as pd\n",
    "train_df = pd.read_csv(\"../input/new-york-city-taxi-fare-prediction/train.csv\", nrows = 2_000_000)\n",
    "train_df.to_csv(\"train_small.csv\", index=False)"
   ]
  },
  {
   "cell_type": "code",
   "execution_count": 2,
   "metadata": {
    "execution": {
     "iopub.execute_input": "2020-10-01T00:10:48.848253Z",
     "iopub.status.busy": "2020-10-01T00:10:48.847314Z",
     "iopub.status.idle": "2020-10-01T00:11:39.563214Z",
     "shell.execute_reply": "2020-10-01T00:11:39.562505Z"
    },
    "papermill": {
     "duration": 50.734741,
     "end_time": "2020-10-01T00:11:39.563377",
     "exception": false,
     "start_time": "2020-10-01T00:10:48.828636",
     "status": "completed"
    },
    "tags": []
   },
   "outputs": [
    {
     "name": "stdout",
     "output_type": "stream",
     "text": [
      "Preparing clients ...\n",
      "Clients successfully created!\n",
      "GCS bucket found.\n",
      "File train.csv uploaded to train.csv.\n",
      "File test.csv uploaded to test.csv.\n",
      "Dataset found.\n",
      "Set target column.\n",
      "Set columns to nullable.\n",
      "Ready to train model.\n"
     ]
    }
   ],
   "source": [
    "PROJECT_ID = 'kaggle-playground-170215'\n",
    "BUCKET_NAME = 'automl-tutorial-alexis'\n",
    "\n",
    "DATASET_DISPLAY_NAME = 'taxi_fare_dataset'\n",
    "TRAIN_FILEPATH = \"../working/train_small.csv\" \n",
    "TEST_FILEPATH = \"../input/new-york-city-taxi-fare-prediction/test.csv\"\n",
    "\n",
    "TARGET_COLUMN = 'fare_amount'\n",
    "ID_COLUMN = 'key'\n",
    "\n",
    "MODEL_DISPLAY_NAME = 'tutorial_model'\n",
    "TRAIN_BUDGET = 4000\n",
    "\n",
    "# Import the class defining the wrapper\n",
    "from automl_tables_wrapper import AutoMLTablesWrapper\n",
    "\n",
    "# Create an instance of the wrapper\n",
    "amw = AutoMLTablesWrapper(project_id=PROJECT_ID,\n",
    "                          bucket_name=BUCKET_NAME,\n",
    "                          dataset_display_name=DATASET_DISPLAY_NAME,\n",
    "                          train_filepath=TRAIN_FILEPATH,\n",
    "                          test_filepath=TEST_FILEPATH,\n",
    "                          target_column=TARGET_COLUMN,\n",
    "                          id_column=ID_COLUMN,\n",
    "                          model_display_name=MODEL_DISPLAY_NAME,\n",
    "                          train_budget=TRAIN_BUDGET)"
   ]
  },
  {
   "cell_type": "markdown",
   "metadata": {
    "papermill": {
     "duration": 0.012087,
     "end_time": "2020-10-01T00:11:39.590542",
     "exception": false,
     "start_time": "2020-10-01T00:11:39.578455",
     "status": "completed"
    },
    "tags": []
   },
   "source": [
    "Next, we train a model and use it to generate predictions on the test dataset."
   ]
  },
  {
   "cell_type": "code",
   "execution_count": 3,
   "metadata": {
    "execution": {
     "iopub.execute_input": "2020-10-01T00:11:39.623046Z",
     "iopub.status.busy": "2020-10-01T00:11:39.622219Z",
     "iopub.status.idle": "2020-10-01T04:23:52.418294Z",
     "shell.execute_reply": "2020-10-01T04:23:52.419132Z"
    },
    "papermill": {
     "duration": 15132.816282,
     "end_time": "2020-10-01T04:23:52.419502",
     "exception": false,
     "start_time": "2020-10-01T00:11:39.603220",
     "status": "completed"
    },
    "tags": []
   },
   "outputs": [
    {
     "name": "stdout",
     "output_type": "stream",
     "text": [
      "Training model ...\n",
      "Finished training model.\n",
      "Getting predictions ...\n",
      "Submission ready for download!\n"
     ]
    }
   ],
   "source": [
    "# Create and train the model\n",
    "amw.train_model()\n",
    "\n",
    "# Get predictions\n",
    "amw.get_predictions()"
   ]
  },
  {
   "cell_type": "markdown",
   "metadata": {
    "papermill": {
     "duration": 0.013197,
     "end_time": "2020-10-01T04:23:52.446468",
     "exception": false,
     "start_time": "2020-10-01T04:23:52.433271",
     "status": "completed"
    },
    "tags": []
   },
   "source": [
    "After completing these steps, we have a file that we can submit to the competition!  In the code cell below, we load this submission file and view the first several rows."
   ]
  },
  {
   "cell_type": "code",
   "execution_count": 4,
   "metadata": {
    "execution": {
     "iopub.execute_input": "2020-10-01T04:23:52.480433Z",
     "iopub.status.busy": "2020-10-01T04:23:52.479566Z",
     "iopub.status.idle": "2020-10-01T04:23:52.510642Z",
     "shell.execute_reply": "2020-10-01T04:23:52.511269Z"
    },
    "papermill": {
     "duration": 0.05147,
     "end_time": "2020-10-01T04:23:52.511449",
     "exception": false,
     "start_time": "2020-10-01T04:23:52.459979",
     "status": "completed"
    },
    "tags": []
   },
   "outputs": [
    {
     "data": {
      "text/html": [
       "<div>\n",
       "<style scoped>\n",
       "    .dataframe tbody tr th:only-of-type {\n",
       "        vertical-align: middle;\n",
       "    }\n",
       "\n",
       "    .dataframe tbody tr th {\n",
       "        vertical-align: top;\n",
       "    }\n",
       "\n",
       "    .dataframe thead th {\n",
       "        text-align: right;\n",
       "    }\n",
       "</style>\n",
       "<table border=\"1\" class=\"dataframe\">\n",
       "  <thead>\n",
       "    <tr style=\"text-align: right;\">\n",
       "      <th></th>\n",
       "      <th>key</th>\n",
       "      <th>fare_amount</th>\n",
       "    </tr>\n",
       "  </thead>\n",
       "  <tbody>\n",
       "    <tr>\n",
       "      <th>0</th>\n",
       "      <td>2014-06-23 00:16:00.00000036</td>\n",
       "      <td>7.327863</td>\n",
       "    </tr>\n",
       "    <tr>\n",
       "      <th>1</th>\n",
       "      <td>2013-09-25 22:00:00.0000002</td>\n",
       "      <td>18.338501</td>\n",
       "    </tr>\n",
       "    <tr>\n",
       "      <th>2</th>\n",
       "      <td>2010-06-16 18:41:54.0000002</td>\n",
       "      <td>7.675639</td>\n",
       "    </tr>\n",
       "    <tr>\n",
       "      <th>3</th>\n",
       "      <td>2011-06-01 07:37:00.0000006</td>\n",
       "      <td>27.225105</td>\n",
       "    </tr>\n",
       "    <tr>\n",
       "      <th>4</th>\n",
       "      <td>2012-11-20 21:54:00.000000221</td>\n",
       "      <td>19.386213</td>\n",
       "    </tr>\n",
       "  </tbody>\n",
       "</table>\n",
       "</div>"
      ],
      "text/plain": [
       "                             key  fare_amount\n",
       "0   2014-06-23 00:16:00.00000036     7.327863\n",
       "1    2013-09-25 22:00:00.0000002    18.338501\n",
       "2    2010-06-16 18:41:54.0000002     7.675639\n",
       "3    2011-06-01 07:37:00.0000006    27.225105\n",
       "4  2012-11-20 21:54:00.000000221    19.386213"
      ]
     },
     "execution_count": 4,
     "metadata": {},
     "output_type": "execute_result"
    }
   ],
   "source": [
    "submission_df = pd.read_csv(\"../working/submission.csv\")\n",
    "submission_df.head()"
   ]
  }
 ],
 "metadata": {
  "kernelspec": {
   "display_name": "Python 3",
   "language": "python",
   "name": "python3"
  },
  "language_info": {
   "codemirror_mode": {
    "name": "ipython",
    "version": 3
   },
   "file_extension": ".py",
   "mimetype": "text/x-python",
   "name": "python",
   "nbconvert_exporter": "python",
   "pygments_lexer": "ipython3",
   "version": "3.7.6"
  },
  "papermill": {
   "duration": 15223.678642,
   "end_time": "2020-10-01T04:23:52.693184",
   "environment_variables": {},
   "exception": null,
   "input_path": "__notebook__.ipynb",
   "output_path": "__notebook__.ipynb",
   "parameters": {},
   "start_time": "2020-10-01T00:10:09.014542",
   "version": "2.1.0"
  }
 },
 "nbformat": 4,
 "nbformat_minor": 4
}
