{
 "cells": [
  {
   "cell_type": "code",
   "execution_count": 1,
   "metadata": {
    "collapsed": true,
    "execution": {
     "iopub.execute_input": "2020-10-01T00:09:06.396800Z",
     "iopub.status.busy": "2020-10-01T00:09:06.395812Z",
     "iopub.status.idle": "2020-10-01T00:09:08.163884Z",
     "shell.execute_reply": "2020-10-01T00:09:08.162287Z"
    },
    "papermill": {
     "duration": 1.777043,
     "end_time": "2020-10-01T00:09:08.164025",
     "exception": false,
     "start_time": "2020-10-01T00:09:06.386982",
     "status": "completed"
    },
    "tags": []
   },
   "outputs": [],
   "source": [
    "from sklearn.metrics import mean_absolute_error\n",
    "from sklearn.tree import DecisionTreeRegressor\n",
    "\n",
    "def get_mae(max_leaf_nodes, train_X, val_X, train_y, val_y):\n",
    "    model = DecisionTreeRegressor(max_leaf_nodes=max_leaf_nodes, random_state=0)\n",
    "    model.fit(train_X, train_y)\n",
    "    preds_val = model.predict(val_X)\n",
    "    mae = mean_absolute_error(val_y, preds_val)\n",
    "    return(mae)"
   ]
  },
  {
   "cell_type": "markdown",
   "metadata": {
    "papermill": {
     "duration": 0.005537,
     "end_time": "2020-10-01T00:09:08.175603",
     "exception": false,
     "start_time": "2020-10-01T00:09:08.170066",
     "status": "completed"
    },
    "tags": []
   },
   "source": [
    "The data is loaded into **train_X**, **val_X**, **train_y** and **val_y** using the code you've already seen (and which you've already written)."
   ]
  },
  {
   "cell_type": "code",
   "execution_count": 2,
   "metadata": {
    "_kg_hide-input": true,
    "_kg_hide-output": true,
    "collapsed": true,
    "execution": {
     "iopub.execute_input": "2020-10-01T00:09:08.198258Z",
     "iopub.status.busy": "2020-10-01T00:09:08.197597Z",
     "iopub.status.idle": "2020-10-01T00:09:08.389782Z",
     "shell.execute_reply": "2020-10-01T00:09:08.388819Z"
    },
    "papermill": {
     "duration": 0.208773,
     "end_time": "2020-10-01T00:09:08.389915",
     "exception": false,
     "start_time": "2020-10-01T00:09:08.181142",
     "status": "completed"
    },
    "tags": []
   },
   "outputs": [],
   "source": [
    "# Data Loading Code Runs At This Point\n",
    "import pandas as pd\n",
    "    \n",
    "# Load data\n",
    "melbourne_file_path = '../input/melbourne-housing-snapshot/melb_data.csv'\n",
    "melbourne_data = pd.read_csv(melbourne_file_path) \n",
    "# Filter rows with missing values\n",
    "filtered_melbourne_data = melbourne_data.dropna(axis=0)\n",
    "# Choose target and features\n",
    "y = filtered_melbourne_data.Price\n",
    "melbourne_features = ['Rooms', 'Bathroom', 'Landsize', 'BuildingArea', \n",
    "                        'YearBuilt', 'Lattitude', 'Longtitude']\n",
    "X = filtered_melbourne_data[melbourne_features]\n",
    "\n",
    "from sklearn.model_selection import train_test_split\n",
    "\n",
    "# split data into training and validation data, for both features and target\n",
    "train_X, val_X, train_y, val_y = train_test_split(X, y,random_state = 0)"
   ]
  },
  {
   "cell_type": "markdown",
   "metadata": {
    "papermill": {
     "duration": 0.005632,
     "end_time": "2020-10-01T00:09:08.401606",
     "exception": false,
     "start_time": "2020-10-01T00:09:08.395974",
     "status": "completed"
    },
    "tags": []
   },
   "source": [
    "We can use a for-loop to compare the accuracy of models built with different values for *max_leaf_nodes.*"
   ]
  },
  {
   "cell_type": "code",
   "execution_count": 3,
   "metadata": {
    "collapsed": true,
    "execution": {
     "iopub.execute_input": "2020-10-01T00:09:08.424245Z",
     "iopub.status.busy": "2020-10-01T00:09:08.423535Z",
     "iopub.status.idle": "2020-10-01T00:09:08.534788Z",
     "shell.execute_reply": "2020-10-01T00:09:08.535325Z"
    },
    "papermill": {
     "duration": 0.128201,
     "end_time": "2020-10-01T00:09:08.535497",
     "exception": false,
     "start_time": "2020-10-01T00:09:08.407296",
     "status": "completed"
    },
    "tags": []
   },
   "outputs": [
    {
     "name": "stdout",
     "output_type": "stream",
     "text": [
      "Max leaf nodes: 5  \t\t Mean Absolute Error:  347380\n",
      "Max leaf nodes: 50  \t\t Mean Absolute Error:  258171\n",
      "Max leaf nodes: 500  \t\t Mean Absolute Error:  243495\n",
      "Max leaf nodes: 5000  \t\t Mean Absolute Error:  254983\n"
     ]
    }
   ],
   "source": [
    "# compare MAE with differing values of max_leaf_nodes\n",
    "for max_leaf_nodes in [5, 50, 500, 5000]:\n",
    "    my_mae = get_mae(max_leaf_nodes, train_X, val_X, train_y, val_y)\n",
    "    print(\"Max leaf nodes: %d  \\t\\t Mean Absolute Error:  %d\" %(max_leaf_nodes, my_mae))"
   ]
  },
  {
   "cell_type": "markdown",
   "metadata": {
    "papermill": {
     "duration": 0.005862,
     "end_time": "2020-10-01T00:09:08.547988",
     "exception": false,
     "start_time": "2020-10-01T00:09:08.542126",
     "status": "completed"
    },
    "tags": []
   },
   "source": [
    "\n",
    "Of the options listed, 500 is the optimal number of leaves.\n",
    "\n",
    "---\n",
    "\n",
    "# Conclusion\n",
    "\n",
    "Here's the takeaway: Models can suffer from either:\n",
    "- **Overfitting:** capturing spurious patterns that won't recur in the future, leading to less accurate predictions, or \n",
    "- **Underfitting:** failing to capture relevant patterns, again leading to less accurate predictions. \n",
    "\n",
    "We use **validation** data, which isn't used in model training, to measure a candidate model's accuracy. This lets us try many candidate models and keep the best one. \n",
    "\n",
    "\n",
    "\n"
   ]
  }
 ],
 "metadata": {
  "kernelspec": {
   "display_name": "Python 3",
   "language": "python",
   "name": "python3"
  },
  "language_info": {
   "codemirror_mode": {
    "name": "ipython",
    "version": 3
   },
   "file_extension": ".py",
   "mimetype": "text/x-python",
   "name": "python",
   "nbconvert_exporter": "python",
   "pygments_lexer": "ipython3",
   "version": "3.7.6"
  },
  "papermill": {
   "duration": 8.368977,
   "end_time": "2020-10-01T00:09:08.683129",
   "environment_variables": {},
   "exception": null,
   "input_path": "__notebook__.ipynb",
   "output_path": "__notebook__.ipynb",
   "parameters": {},
   "start_time": "2020-10-01T00:09:00.314152",
   "version": "2.1.0"
  }
 },
 "nbformat": 4,
 "nbformat_minor": 2
}
